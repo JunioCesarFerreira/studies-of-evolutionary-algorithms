{
 "cells": [
  {
   "cell_type": "markdown",
   "metadata": {},
   "source": [
    "## **🔬 Modelo de Evolução Artificial**  \n",
    "Usamos um **ambiente simulado** onde os indivíduos competem e evoluem ao longo das gerações. A aptidão (**fitness**) não é fixa, mas emerge das interações.\n",
    "\n",
    "📌 **Características do modelo:**  \n",
    "✔ Indivíduos representados por cadeias binárias (**genótipos**)  \n",
    "✔ Seleção por torneio (competição local)  \n",
    "✔ Reprodução com **crossover e mutação**  \n",
    "✔ Substituição geracional (**os mais aptos sobrevivem**)  \n",
    "✔ Registro da diversidade e evolução  \n",
    "\n",
    "---\n",
    "\n",
    "## **📜 Código da Simulação**\n",
    "Vamos estruturar o código em etapas:  \n",
    "\n",
    "1️⃣ Definir **indivíduos e população**  \n",
    "2️⃣ Criar operadores genéticos (**seleção, crossover, mutação**)  \n",
    "3️⃣ Implementar a **dinâmica evolutiva**  \n",
    "4️⃣ Rodar a simulação e **analisar resultados**  \n",
    "\n",
    "---"
   ]
  },
  {
   "cell_type": "markdown",
   "metadata": {},
   "source": [
    "### **📜 Parâmetros da Simulação**"
   ]
  },
  {
   "cell_type": "code",
   "execution_count": 328,
   "metadata": {},
   "outputs": [],
   "source": [
    "GENE_LENGTH = 10    # Número de bits por indivíduo\n",
    "POP_SIZE = 20       # Tamanho da população\n",
    "MUTATION_RATE = 0.8 # Probabilidade de ocorrencia de mutação\n",
    "MTPB = 0.1          # Probabilidade de mutação por gene\n",
    "CXPB = 0.5          # Probabilidade de crossover\n",
    "GENERATIONS = 10    # Número de gerações"
   ]
  },
  {
   "cell_type": "markdown",
   "metadata": {},
   "source": [
    "### **📌 1. Definição dos Indivíduos e População**\n",
    "Cada indivíduo é uma **cadeia binária**, e a população inicial é gerada aleatoriamente.  "
   ]
  },
  {
   "cell_type": "code",
   "execution_count": 329,
   "metadata": {},
   "outputs": [],
   "source": [
    "import random\n",
    "\n",
    "# Criando um indivíduo aleatório (genótipo como string binária)\n",
    "def create_individual():\n",
    "    return [random.randint(0, 1) for _ in range(GENE_LENGTH)]\n",
    "\n",
    "# Criando a população inicial\n",
    "def initialize_population(size):\n",
    "    return [create_individual() for _ in range(size)]"
   ]
  },
  {
   "cell_type": "markdown",
   "metadata": {},
   "source": [
    "### **📌 2. Função de Aptidão (Fitness)**\n",
    "A aptidão emerge de interações! Vamos usar um critério simples: **quanto mais 1s, mais apto**, mas isso pode ser substituído por algo mais complexo.  "
   ]
  },
  {
   "cell_type": "code",
   "execution_count": 330,
   "metadata": {},
   "outputs": [],
   "source": [
    "def fitness(individual):\n",
    "    return sum(int(gene) for gene in individual)  # Conta os '1's"
   ]
  },
  {
   "cell_type": "markdown",
   "metadata": {},
   "source": [
    "### **📌 3. Operadores Genéticos**  \n",
    "\n",
    "#### **📍 Seleção: Torneio**\n",
    "Selecionamos dois indivíduos e escolhemos o mais apto para reprodução.  "
   ]
  },
  {
   "cell_type": "code",
   "execution_count": 331,
   "metadata": {},
   "outputs": [],
   "source": [
    "def tournament_selection(population, k=3):\n",
    "    selected = random.sample(population, k)  # Escolhe k indivíduos aleatoriamente\n",
    "    return max(selected, key=fitness)  # Retorna o mais apto"
   ]
  },
  {
   "cell_type": "markdown",
   "metadata": {},
   "source": [
    "#### **📍 Crossover: Um ponto**\n",
    "Criamos dois filhos trocando parte dos genes dos pais.  "
   ]
  },
  {
   "cell_type": "code",
   "execution_count": 332,
   "metadata": {},
   "outputs": [],
   "source": [
    "def crossover(parent1, parent2):\n",
    "    point = random.randint(1, GENE_LENGTH - 1)  # Escolhe um ponto de corte\n",
    "    child1 = parent1[:point] + parent2[point:]\n",
    "    child2 = parent2[:point] + parent1[point:]\n",
    "    return child1, child2"
   ]
  },
  {
   "cell_type": "markdown",
   "metadata": {},
   "source": [
    "#### **📍 Mutação: Bit Flip**\n",
    "Cada gene pode mudar com uma pequena probabilidade.  "
   ]
  },
  {
   "cell_type": "code",
   "execution_count": 333,
   "metadata": {},
   "outputs": [],
   "source": [
    "def mutate(individual):\n",
    "    for i in range(len(individual)):\n",
    "        if random.random() < MTPB:\n",
    "            individual[i] = type(individual[i])(not individual[i])            \n",
    "    return individual"
   ]
  },
  {
   "cell_type": "markdown",
   "metadata": {},
   "source": [
    "### **📌 4. Algoritmo Evolutivo**\n",
    "Agora implementamos o **loop evolutivo**."
   ]
  },
  {
   "cell_type": "code",
   "execution_count": 334,
   "metadata": {},
   "outputs": [],
   "source": [
    "def evolve():\n",
    "    population = initialize_population(POP_SIZE)\n",
    "    best_fitness_over_time = []\n",
    "\n",
    "    for generation in range(GENERATIONS):\n",
    "        new_population = []\n",
    "\n",
    "        # Gera nova população\n",
    "        while len(new_population) < POP_SIZE:\n",
    "            # Torneio para seleção de pais\n",
    "            parent1 = tournament_selection(population)\n",
    "            parent2 = tournament_selection(population)\n",
    "            # Probabilidade de ocorrencia de cruzamento\n",
    "            if random.random() < CXPB:\n",
    "                # Gera dois filhos do cruzamento\n",
    "                child1, child2 = crossover(parent1, parent2)\n",
    "                \n",
    "                if random.random() < MUTATION_RATE:\n",
    "                    # Aplica mutação \n",
    "                    child1 = mutate(child1)\n",
    "                    child2 = mutate(child2)\n",
    "                    \n",
    "                # Inclui à nova população\n",
    "                new_population.extend([child1, child2])\n",
    "\n",
    "        # Atualiza população e coleta dados\n",
    "        population = sorted(new_population, key=fitness, reverse=True)[:POP_SIZE]\n",
    "        best_fitness = fitness(population[0])\n",
    "        best_fitness_over_time.append(best_fitness)\n",
    "\n",
    "        print(f\"Geração {generation + 1}: Melhor fitness = {best_fitness}\")\n",
    "\n",
    "    return best_fitness_over_time"
   ]
  },
  {
   "cell_type": "markdown",
   "metadata": {},
   "source": [
    "### **📌 5. Executando e Analisando Resultados**\n",
    "Rodamos a simulação e plotamos a evolução do fitness."
   ]
  },
  {
   "cell_type": "code",
   "execution_count": 335,
   "metadata": {},
   "outputs": [
    {
     "name": "stdout",
     "output_type": "stream",
     "text": [
      "Geração 1: Melhor fitness = 8\n",
      "Geração 2: Melhor fitness = 9\n",
      "Geração 3: Melhor fitness = 9\n",
      "Geração 4: Melhor fitness = 10\n",
      "Geração 5: Melhor fitness = 10\n",
      "Geração 6: Melhor fitness = 10\n",
      "Geração 7: Melhor fitness = 10\n",
      "Geração 8: Melhor fitness = 10\n",
      "Geração 9: Melhor fitness = 10\n",
      "Geração 10: Melhor fitness = 10\n"
     ]
    },
    {
     "data": {
      "image/png": "[encoded data removed]",
      "text/plain": [
       "<Figure size 640x480 with 1 Axes>"
      ]
     },
     "metadata": {},
     "output_type": "display_data"
    }
   ],
   "source": [
    "import matplotlib.pyplot as plt\n",
    "\n",
    "# Executa a simulação\n",
    "best_fitness = evolve()\n",
    "\n",
    "# Plota evolução do fitness\n",
    "plt.plot(best_fitness)\n",
    "plt.xlabel(\"Geração\")\n",
    "plt.ylabel(\"Melhor Fitness\")\n",
    "plt.title(\"Evolução da Aptidão ao Longo do Tempo\")\n",
    "plt.show()"
   ]
  },
  {
   "cell_type": "markdown",
   "metadata": {},
   "source": [
    "## **📊 Resultados Esperados**\n",
    "📌 No início, os indivíduos terão aptidões baixas, mas ao longo das gerações veremos um aumento no número de \"1s\" nos genótipos.  \n",
    "📌 O gráfico mostrará a convergência para um genótipo mais adaptado.  \n",
    "📌 Esse código pode ser expandido para incluir pressões ambientais, coevolução e mudanças no fitness ao longo do tempo.  \n",
    "\n",
    "---\n",
    "\n",
    "## **🚀 Possíveis Expansões**\n",
    "✔ Adicionar um **ambiente dinâmico** com mudanças de fitness  \n",
    "✔ Implementar **coevolução** (competição predador-presa)  \n",
    "✔ Usar representações mais complexas (**redes neurais evolutivas**)  \n",
    "✔ Simular **especiação** com nichos distintos  \n",
    "\n",
    "Esse modelo básico já mostra um processo de **evolução artificial emergente**."
   ]
  }
 ],
 "metadata": {
  "kernelspec": {
   "display_name": "Python 3",
   "language": "python",
   "name": "python3"
  },
  "language_info": {
   "codemirror_mode": {
    "name": "ipython",
    "version": 3
   },
   "file_extension": ".py",
   "mimetype": "text/x-python",
   "name": "python",
   "nbconvert_exporter": "python",
   "pygments_lexer": "ipython3",
   "version": "3.12.1"
  }
 },
 "nbformat": 4,
 "nbformat_minor": 2
}
